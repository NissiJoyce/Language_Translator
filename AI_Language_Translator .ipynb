{
 "cells": [
  {
   "cell_type": "markdown",
   "id": "cc51247c",
   "metadata": {},
   "source": [
    "# 1. Imports & Initialization"
   ]
  },
  {
   "cell_type": "code",
   "execution_count": 21,
   "id": "47d4edac",
   "metadata": {},
   "outputs": [],
   "source": [
    "from tkinter import *\n",
    "from tkinter import ttk, messagebox\n",
    "from googletrans import Translator, LANGUAGES\n",
    "from gtts import gTTS\n",
    "import os\n",
    "from playsound import playsound\n"
   ]
  },
  {
   "cell_type": "markdown",
   "id": "eaed7c04",
   "metadata": {},
   "source": [
    "Import all necessary libraries.\n",
    "\n",
    "LANGUAGES gives you all language codes supported by Google Translate. "
   ]
  },
  {
   "cell_type": "markdown",
   "id": "eebd092c",
   "metadata": {},
   "source": [
    "# 2. Window Setup\n"
   ]
  },
  {
   "cell_type": "code",
   "execution_count": 22,
   "id": "46e8e16a",
   "metadata": {},
   "outputs": [],
   "source": [
    "root = Tk()\n",
    "root.geometry('900x500')\n",
    "root.resizable(False, False)\n",
    "root.title('AI-Powered Language Translator')\n",
    "root.configure(bg='#2C3E50')\n"
   ]
  },
  {
   "cell_type": "markdown",
   "id": "12c712f3",
   "metadata": {},
   "source": [
    "Creates the main application window.\n",
    "\n",
    "Sets size, title, and disables resizing.\n"
   ]
  },
  {
   "cell_type": "markdown",
   "id": "663753d3",
   "metadata": {},
   "source": [
    "# 3. Header & Labels"
   ]
  },
  {
   "cell_type": "code",
   "execution_count": 23,
   "id": "289672f8",
   "metadata": {},
   "outputs": [],
   "source": [
    "# Header Label\n",
    "Label(root, text='AI-Powered Language Translator', font=('Arial', 20, 'bold'), bg='#2C3E50', fg='white').pack(pady=10)\n",
    "\n",
    "# Input Label\n",
    "Label(root, text='Enter Text', font=('Arial', 13, 'bold'), bg='#2C3E50', fg='white').place(x=50, y=80)\n",
    "\n",
    "# Output Text Box\n",
    "Output_text = Text(root, font=('Arial', 12), height=5, width=40, wrap=WORD, padx=5, pady=5, state=DISABLED)\n",
    "Output_text.place(x=500, y=110)\n"
   ]
  },
  {
   "cell_type": "markdown",
   "id": "1fff3a14",
   "metadata": {},
   "source": [
    "Adds header and labels for input and output sections."
   ]
  },
  {
   "cell_type": "markdown",
   "id": "1def1e22",
   "metadata": {},
   "source": [
    "# 4. Input & Output Boxes"
   ]
  },
  {
   "cell_type": "code",
   "execution_count": 24,
   "id": "0ed2cd92",
   "metadata": {},
   "outputs": [],
   "source": [
    "# Input Text Box\n",
    "Input_text = Text(root, font=('Arial', 12), height=5, width=40, wrap=WORD, padx=5, pady=5)\n",
    "Input_text.place(x=50, y=110)\n",
    "\n",
    "# Output Text Box\n",
    "Output_text = Text(root, font=('Arial', 12), height=5, width=40, wrap=WORD, padx=5, pady=5, state=DISABLED)\n",
    "Output_text.place(x=500, y=110)"
   ]
  },
  {
   "cell_type": "markdown",
   "id": "fd914b50",
   "metadata": {},
   "source": [
    "Input_text: For user to type the text.\n",
    "\n",
    "Output_text: To display the translated result (disabled for editing)."
   ]
  },
  {
   "cell_type": "markdown",
   "id": "7949bd7c",
   "metadata": {},
   "source": [
    "# 5. Language Dropdown with Autocomplete"
   ]
  },
  {
   "cell_type": "code",
   "execution_count": 25,
   "id": "fa189b43",
   "metadata": {},
   "outputs": [],
   "source": [
    "# Language Selection Dropdown with Autocomplete\n",
    "language_dict = LANGUAGES\n",
    "language_names = list(language_dict.values())\n",
    "\n",
    "dest_lang = ttk.Combobox(root, values=language_names, width=25, font=('Arial', 12))\n",
    "dest_lang.place(x=50, y=250)\n",
    "dest_lang.set('Choose Language')"
   ]
  },
  {
   "cell_type": "markdown",
   "id": "a2afc194",
   "metadata": {},
   "source": [
    " Fetches all language names from googletrans.\n",
    "\n",
    "Creates a searchable dropdown list to select target language."
   ]
  },
  {
   "cell_type": "markdown",
   "id": "7a37961a",
   "metadata": {},
   "source": [
    "# Autocomplete Function:"
   ]
  },
  {
   "cell_type": "code",
   "execution_count": 26,
   "id": "1be7721f",
   "metadata": {},
   "outputs": [
    {
     "data": {
      "text/plain": [
       "'2529001503488update_languages'"
      ]
     },
     "execution_count": 26,
     "metadata": {},
     "output_type": "execute_result"
    }
   ],
   "source": [
    "# Function to filter languages as user types\n",
    "def update_languages(event):\n",
    "    typed_text = dest_lang.get().lower()  # Get typed text\n",
    "    if typed_text == \"\":\n",
    "        dest_lang[\"values\"] = language_names  # Reset to full list\n",
    "    else:\n",
    "        filtered_langs = [lang for lang in language_names if typed_text in lang.lower()]\n",
    "        dest_lang[\"values\"] = filtered_langs  # Update dropdown list\n",
    "        if len(filtered_langs) > 0:\n",
    "            dest_lang.event_generate(\"<Down>\")  # Open dropdown automatically\n",
    "\n",
    "dest_lang.bind(\"<KeyRelease>\", update_languages)  # Bind autocomplete function"
   ]
  },
  {
   "cell_type": "markdown",
   "id": "f17aa68a",
   "metadata": {},
   "source": [
    "Filters dropdown options as the user types."
   ]
  },
  {
   "cell_type": "markdown",
   "id": "36f1f8cb",
   "metadata": {},
   "source": [
    "# 6. Translate Function"
   ]
  },
  {
   "cell_type": "code",
   "execution_count": 27,
   "id": "e7aba24f",
   "metadata": {},
   "outputs": [],
   "source": [
    "def Translate():\n",
    "    try:\n",
    "        text = Input_text.get(\"1.0\", END).strip()\n",
    "        lang = dest_lang.get()\n",
    "        if not text:\n",
    "            messagebox.showwarning(\"Input Error\", \"Please enter text to translate\")\n",
    "            return\n",
    "        if lang not in language_names:\n",
    "            messagebox.showwarning(\"Selection Error\", \"Please choose a valid target language\")\n",
    "            return\n",
    "        \n",
    "        translator = Translator()\n",
    "        detected_lang = translator.detect(text).lang\n",
    "        translated = translator.translate(text=text, src=detected_lang, dest=list(language_dict.keys())[language_names.index(lang)])\n",
    "        \n",
    "        Output_text.config(state=NORMAL)\n",
    "        Output_text.delete(\"1.0\", END)\n",
    "        Output_text.insert(END, translated.text)\n",
    "        Output_text.config(state=DISABLED)\n",
    "        \n",
    "        # Update detected language\n",
    "        detected_lang_label.config(text=language_dict.get(detected_lang, \"Unknown\"))\n",
    "\n",
    "        # Play a soft notification sound\n",
    "        #playsound(\"success.mp3\")  # Ensure \"success.mp3\" exists in your folder\n",
    "\n",
    "    except Exception as e:\n",
    "        messagebox.showerror(\"Translation Error\", f\"An error occurred: {e}\")\n"
   ]
  },
  {
   "cell_type": "markdown",
   "id": "08800cc5",
   "metadata": {},
   "source": [
    "Gets the input text and target language.\n",
    "\n",
    "Uses Translator().detect() to auto-detect input language.\n",
    "\n",
    "Uses Translator().translate() to translate text.\n",
    "\n",
    "Updates output box and detected language label."
   ]
  },
  {
   "cell_type": "markdown",
   "id": "c6f06692",
   "metadata": {},
   "source": [
    "# 7. Speak Function"
   ]
  },
  {
   "cell_type": "code",
   "execution_count": 28,
   "id": "ebaae2b9",
   "metadata": {},
   "outputs": [],
   "source": [
    "def Speak():\n",
    "    try:\n",
    "        translated_text = Output_text.get(\"1.0\", END).strip()\n",
    "        if not translated_text:\n",
    "            messagebox.showwarning(\"Speech Error\", \"No translated text available to speak.\")\n",
    "            return\n",
    "        \n",
    "        lang = list(language_dict.keys())[language_names.index(dest_lang.get())]  # Get selected language code\n",
    "        tts = gTTS(text=translated_text, lang=lang)\n",
    "        tts.save(\"output.mp3\")\n",
    "        os.system(\"start output.mp3\")  # Play the audio\n",
    "\n",
    "    except Exception as e:\n",
    "        messagebox.showerror(\"Speech Error\", f\"An error occurred: {e}\")"
   ]
  },
  {
   "cell_type": "markdown",
   "id": "3652c445",
   "metadata": {},
   "source": [
    "Uses gTTS to convert translated text to speech.\n",
    "\n",
    "Saves it as output.mp3 and plays it with os.system(\"start output.mp3\")."
   ]
  },
  {
   "cell_type": "markdown",
   "id": "500f7979",
   "metadata": {},
   "source": [
    "# 8. Clear Function"
   ]
  },
  {
   "cell_type": "code",
   "execution_count": 29,
   "id": "63c4a8ca",
   "metadata": {},
   "outputs": [],
   "source": [
    "def Clear():\n",
    "    Input_text.delete(\"1.0\", END)\n",
    "    Output_text.config(state=NORMAL)\n",
    "    Output_text.delete(\"1.0\", END)\n",
    "    Output_text.config(state=DISABLED)\n",
    "\n",
    "clear_btn = Button(root, text=\"Clear\", font=('Arial', 12, 'bold'), padx=10, pady=5, bg='red', fg='white',\n",
    "                   activebackground='darkred', command=Clear)\n",
    "clear_btn.place(x=600, y=250)\n"
   ]
  },
  {
   "cell_type": "markdown",
   "id": "2de0d28d",
   "metadata": {},
   "source": [
    "Clears both input and output text areas. "
   ]
  },
  {
   "cell_type": "markdown",
   "id": "410278fe",
   "metadata": {},
   "source": [
    "# 9. Dark/Light Mode Toggle"
   ]
  },
  {
   "cell_type": "code",
   "execution_count": 30,
   "id": "18c27951",
   "metadata": {},
   "outputs": [],
   "source": [
    "def toggle_mode():\n",
    "    if root[\"bg\"] == \"#2C3E50\":\n",
    "        root.configure(bg=\"white\")\n",
    "        for widget in root.winfo_children():\n",
    "            try:\n",
    "                widget.configure(bg=\"white\", fg=\"black\")\n",
    "            except:\n",
    "                pass  # Ignore widgets that don't support background change\n",
    "    else:\n",
    "        root.configure(bg=\"#2C3E50\")\n",
    "        for widget in root.winfo_children():\n",
    "            try:\n",
    "                widget.configure(bg=\"#2C3E50\", fg=\"white\")\n",
    "            except:\n",
    "                pass  # Ignore widgets that don't support background change"
   ]
  },
  {
   "cell_type": "markdown",
   "id": "c9011ddd",
   "metadata": {},
   "source": [
    "Toggles between dark mode (#2C3E50) and light mode (white).\n",
    "\n",
    "Updates background and foreground colors of all widgets. "
   ]
  },
  {
   "cell_type": "markdown",
   "id": "a3eeb518",
   "metadata": {},
   "source": [
    "# 10. Buttons"
   ]
  },
  {
   "cell_type": "code",
   "execution_count": 31,
   "id": "613158e9",
   "metadata": {},
   "outputs": [],
   "source": [
    "clear_btn = Button(root, text=\"Clear\", font=('Arial', 12, 'bold'), padx=10, pady=5, bg='red', fg='white',\n",
    "                   activebackground='darkred', command=Clear)\n",
    "clear_btn.place(x=600, y=250)\n",
    "\n",
    "toggle_btn = Button(root, text=\"🌙\", font=(\"Arial\", 12), command=toggle_mode, bg=\"gray\", fg=\"white\")\n",
    "toggle_btn.place(x=850, y=10)  # Top-right corner\n",
    "\n",
    "# Translate Button\n",
    "trans_btn = Button(root, text='Translate', font=('Arial', 12, 'bold'), padx=10, pady=5, bg='#E67E22', fg='white',\n",
    "                   activebackground='#D35400', command=Translate)\n",
    "trans_btn.place(x=400, y=250)\n",
    "\n",
    "# Speak Button\n",
    "speak_btn = Button(root, text='Speak', font=('Arial', 12, 'bold'), padx=10, pady=5, bg='#27AE60', fg='white',\n",
    "                   activebackground='#229954', command=Speak)\n",
    "speak_btn.place(x=500, y=250)"
   ]
  },
  {
   "cell_type": "markdown",
   "id": "97e8e2d4",
   "metadata": {},
   "source": [
    "Buttons for Translate, Speak, Clear, and Mode Toggle."
   ]
  },
  {
   "cell_type": "markdown",
   "id": "5a7d8797",
   "metadata": {},
   "source": [
    "# 11. Detected Language Display"
   ]
  },
  {
   "cell_type": "code",
   "execution_count": 32,
   "id": "8bce9213",
   "metadata": {},
   "outputs": [],
   "source": [
    "# Auto-detect language feature\n",
    "Label(root, text='Detected Language:', font=('Arial', 12, 'bold'), bg='#2C3E50', fg='white').place(x=50, y=300)\n",
    "detected_lang_label = Label(root, text='-', font=('Arial', 12), bg='#2C3E50', fg='yellow')\n",
    "detected_lang_label.place(x=200, y=300)\n"
   ]
  },
  {
   "cell_type": "markdown",
   "id": "1c38181e",
   "metadata": {},
   "source": [
    "Shows which language the input text was written in (auto-detected)."
   ]
  },
  {
   "cell_type": "markdown",
   "id": "f71596fc",
   "metadata": {},
   "source": [
    "# 12. Mainloop Execution"
   ]
  },
  {
   "cell_type": "code",
   "execution_count": 33,
   "id": "c5f397ab",
   "metadata": {},
   "outputs": [],
   "source": [
    "root.mainloop()\n"
   ]
  },
  {
   "cell_type": "markdown",
   "id": "239f4c55",
   "metadata": {},
   "source": [
    "Keeps the window running until closed."
   ]
  },
  {
   "cell_type": "markdown",
   "id": "29e77d3d",
   "metadata": {},
   "source": [
    "# Full Code"
   ]
  },
  {
   "cell_type": "code",
   "execution_count": 34,
   "id": "248a1efb",
   "metadata": {},
   "outputs": [],
   "source": [
    "from tkinter import *\n",
    "from tkinter import ttk, messagebox\n",
    "from googletrans import Translator, LANGUAGES\n",
    "from gtts import gTTS\n",
    "import os\n",
    "from playsound import playsound  # For soft notification sound\n",
    "\n",
    "# Initialize root window\n",
    "root = Tk()\n",
    "root.geometry('900x500')\n",
    "root.resizable(False, False)\n",
    "root.title('AI-Powered Language Translator')\n",
    "root.configure(bg='#2C3E50')\n",
    "\n",
    "# Header Label\n",
    "Label(root, text='AI-Powered Language Translator', font=('Arial', 20, 'bold'), bg='#2C3E50', fg='white').pack(pady=10)\n",
    "\n",
    "# Input Label\n",
    "Label(root, text='Enter Text', font=('Arial', 13, 'bold'), bg='#2C3E50', fg='white').place(x=50, y=80)\n",
    "\n",
    "# Input Text Box\n",
    "Input_text = Text(root, font=('Arial', 12), height=5, width=40, wrap=WORD, padx=5, pady=5)\n",
    "Input_text.place(x=50, y=110)\n",
    "\n",
    "# Output Label\n",
    "Label(root, text='Translated Text', font=('Arial', 13, 'bold'), bg='#2C3E50', fg='white').place(x=500, y=80)\n",
    "\n",
    "# Output Text Box\n",
    "Output_text = Text(root, font=('Arial', 12), height=5, width=40, wrap=WORD, padx=5, pady=5, state=DISABLED)\n",
    "Output_text.place(x=500, y=110)\n",
    "\n",
    "# Language Selection Dropdown with Autocomplete\n",
    "language_dict = LANGUAGES\n",
    "language_names = list(language_dict.values())\n",
    "\n",
    "dest_lang = ttk.Combobox(root, values=language_names, width=25, font=('Arial', 12))\n",
    "dest_lang.place(x=50, y=250)\n",
    "dest_lang.set('Choose Language')\n",
    "\n",
    "# Function to filter languages as user types\n",
    "def update_languages(event):\n",
    "    typed_text = dest_lang.get().lower()  # Get typed text\n",
    "    if typed_text == \"\":\n",
    "        dest_lang[\"values\"] = language_names  # Reset to full list\n",
    "    else:\n",
    "        filtered_langs = [lang for lang in language_names if typed_text in lang.lower()]\n",
    "        dest_lang[\"values\"] = filtered_langs  # Update dropdown list\n",
    "        if len(filtered_langs) > 0:\n",
    "            dest_lang.event_generate(\"<Down>\")  # Open dropdown automatically\n",
    "\n",
    "dest_lang.bind(\"<KeyRelease>\", update_languages)  # Bind autocomplete function\n",
    "\n",
    "def Translate():\n",
    "    try:\n",
    "        text = Input_text.get(\"1.0\", END).strip()\n",
    "        lang = dest_lang.get()\n",
    "        if not text:\n",
    "            messagebox.showwarning(\"Input Error\", \"Please enter text to translate\")\n",
    "            return\n",
    "        if lang not in language_names:\n",
    "            messagebox.showwarning(\"Selection Error\", \"Please choose a valid target language\")\n",
    "            return\n",
    "        \n",
    "        translator = Translator()\n",
    "        detected_lang = translator.detect(text).lang\n",
    "        translated = translator.translate(text=text, src=detected_lang, dest=list(language_dict.keys())[language_names.index(lang)])\n",
    "        \n",
    "        Output_text.config(state=NORMAL)\n",
    "        Output_text.delete(\"1.0\", END)\n",
    "        Output_text.insert(END, translated.text)\n",
    "        Output_text.config(state=DISABLED)\n",
    "        \n",
    "        # Update detected language\n",
    "        detected_lang_label.config(text=language_dict.get(detected_lang, \"Unknown\"))\n",
    "\n",
    "        # Play a soft notification sound\n",
    "        #playsound(\"success.mp3\")  # Ensure \"success.mp3\" exists in your folder\n",
    "\n",
    "    except Exception as e:\n",
    "        messagebox.showerror(\"Translation Error\", f\"An error occurred: {e}\")\n",
    "\n",
    "def Speak():\n",
    "    try:\n",
    "        translated_text = Output_text.get(\"1.0\", END).strip()\n",
    "        if not translated_text:\n",
    "            messagebox.showwarning(\"Speech Error\", \"No translated text available to speak.\")\n",
    "            return\n",
    "        \n",
    "        lang = list(language_dict.keys())[language_names.index(dest_lang.get())]  # Get selected language code\n",
    "        tts = gTTS(text=translated_text, lang=lang)\n",
    "        tts.save(\"output.mp3\")\n",
    "        os.system(\"start output.mp3\")  # Play the audio\n",
    "\n",
    "    except Exception as e:\n",
    "        messagebox.showerror(\"Speech Error\", f\"An error occurred: {e}\")\n",
    "\n",
    "def Clear():\n",
    "    Input_text.delete(\"1.0\", END)\n",
    "    Output_text.config(state=NORMAL)\n",
    "    Output_text.delete(\"1.0\", END)\n",
    "    Output_text.config(state=DISABLED)\n",
    "\n",
    "clear_btn = Button(root, text=\"Clear\", font=('Arial', 12, 'bold'), padx=10, pady=5, bg='red', fg='white',\n",
    "                   activebackground='darkred', command=Clear)\n",
    "clear_btn.place(x=600, y=250)\n",
    "\n",
    "def toggle_mode():\n",
    "    if root[\"bg\"] == \"#2C3E50\":\n",
    "        root.configure(bg=\"white\")\n",
    "        for widget in root.winfo_children():\n",
    "            try:\n",
    "                widget.configure(bg=\"white\", fg=\"black\")\n",
    "            except:\n",
    "                pass  # Ignore widgets that don't support background change\n",
    "    else:\n",
    "        root.configure(bg=\"#2C3E50\")\n",
    "        for widget in root.winfo_children():\n",
    "            try:\n",
    "                widget.configure(bg=\"#2C3E50\", fg=\"white\")\n",
    "            except:\n",
    "                pass  # Ignore widgets that don't support background change\n",
    "\n",
    "toggle_btn = Button(root, text=\"🌙\", font=(\"Arial\", 12), command=toggle_mode, bg=\"gray\", fg=\"white\")\n",
    "toggle_btn.place(x=850, y=10)  # Top-right corner\n",
    "\n",
    "# Translate Button\n",
    "trans_btn = Button(root, text='Translate', font=('Arial', 12, 'bold'), padx=10, pady=5, bg='#E67E22', fg='white',\n",
    "                   activebackground='#D35400', command=Translate)\n",
    "trans_btn.place(x=400, y=250)\n",
    "\n",
    "# Speak Button\n",
    "speak_btn = Button(root, text='Speak', font=('Arial', 12, 'bold'), padx=10, pady=5, bg='#27AE60', fg='white',\n",
    "                   activebackground='#229954', command=Speak)\n",
    "speak_btn.place(x=500, y=250)\n",
    "\n",
    "# Auto-detect language feature\n",
    "Label(root, text='Detected Language:', font=('Arial', 12, 'bold'), bg='#2C3E50', fg='white').place(x=50, y=300)\n",
    "detected_lang_label = Label(root, text='-', font=('Arial', 12), bg='#2C3E50', fg='yellow')\n",
    "detected_lang_label.place(x=200, y=300)\n",
    "\n",
    "# Run Mainloop\n",
    "root.mainloop()\n"
   ]
  }
 ],
 "metadata": {
  "kernelspec": {
   "display_name": "Python 3 (ipykernel)",
   "language": "python",
   "name": "python3"
  },
  "language_info": {
   "codemirror_mode": {
    "name": "ipython",
    "version": 3
   },
   "file_extension": ".py",
   "mimetype": "text/x-python",
   "name": "python",
   "nbconvert_exporter": "python",
   "pygments_lexer": "ipython3",
   "version": "3.10.9"
  }
 },
 "nbformat": 4,
 "nbformat_minor": 5
}
